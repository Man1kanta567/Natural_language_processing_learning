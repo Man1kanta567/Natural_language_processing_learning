{
 "cells": [
  {
   "cell_type": "code",
   "execution_count": 58,
   "id": "c14a2be2",
   "metadata": {},
   "outputs": [],
   "source": [
    "import pandas as pd\n",
    "import nltk\n",
    "from nltk.corpus import stopwords\n",
    "from nltk.stem import WordNetLemmatizer\n",
    "import re\n",
    "import numpy as np\n",
    "from tqdm import tqdm\n"
   ]
  },
  {
   "cell_type": "markdown",
   "id": "c547be91",
   "metadata": {},
   "source": [
    "1. Cleaning and Preprocessing the data\n",
    "\n",
    "2. Split the training and testing data \n",
    "\n",
    "3. Apply BagOfEords, TFIDF, Word2Vec algorithms\n",
    "\n",
    "4. apply the machine learning algorithm\n",
    "\n"
   ]
  },
  {
   "cell_type": "code",
   "execution_count": 2,
   "id": "2e8e8739",
   "metadata": {},
   "outputs": [],
   "source": [
    "df = pd.read_csv('all_kindle_review.csv')"
   ]
  },
  {
   "cell_type": "code",
   "execution_count": 3,
   "id": "c40ba733",
   "metadata": {},
   "outputs": [
    {
     "data": {
      "text/html": [
       "<div>\n",
       "<style scoped>\n",
       "    .dataframe tbody tr th:only-of-type {\n",
       "        vertical-align: middle;\n",
       "    }\n",
       "\n",
       "    .dataframe tbody tr th {\n",
       "        vertical-align: top;\n",
       "    }\n",
       "\n",
       "    .dataframe thead th {\n",
       "        text-align: right;\n",
       "    }\n",
       "</style>\n",
       "<table border=\"1\" class=\"dataframe\">\n",
       "  <thead>\n",
       "    <tr style=\"text-align: right;\">\n",
       "      <th></th>\n",
       "      <th>Unnamed: 0.1</th>\n",
       "      <th>Unnamed: 0</th>\n",
       "      <th>asin</th>\n",
       "      <th>helpful</th>\n",
       "      <th>rating</th>\n",
       "      <th>reviewText</th>\n",
       "      <th>reviewTime</th>\n",
       "      <th>reviewerID</th>\n",
       "      <th>reviewerName</th>\n",
       "      <th>summary</th>\n",
       "      <th>unixReviewTime</th>\n",
       "    </tr>\n",
       "  </thead>\n",
       "  <tbody>\n",
       "    <tr>\n",
       "      <th>0</th>\n",
       "      <td>0</td>\n",
       "      <td>11539</td>\n",
       "      <td>B0033UV8HI</td>\n",
       "      <td>[8, 10]</td>\n",
       "      <td>3</td>\n",
       "      <td>Jace Rankin may be short, but he's nothing to ...</td>\n",
       "      <td>09 2, 2010</td>\n",
       "      <td>A3HHXRELK8BHQG</td>\n",
       "      <td>Ridley</td>\n",
       "      <td>Entertaining But Average</td>\n",
       "      <td>1283385600</td>\n",
       "    </tr>\n",
       "    <tr>\n",
       "      <th>1</th>\n",
       "      <td>1</td>\n",
       "      <td>5957</td>\n",
       "      <td>B002HJV4DE</td>\n",
       "      <td>[1, 1]</td>\n",
       "      <td>5</td>\n",
       "      <td>Great short read.  I didn't want to put it dow...</td>\n",
       "      <td>10 8, 2013</td>\n",
       "      <td>A2RGNZ0TRF578I</td>\n",
       "      <td>Holly Butler</td>\n",
       "      <td>Terrific menage scenes!</td>\n",
       "      <td>1381190400</td>\n",
       "    </tr>\n",
       "    <tr>\n",
       "      <th>2</th>\n",
       "      <td>2</td>\n",
       "      <td>9146</td>\n",
       "      <td>B002ZG96I4</td>\n",
       "      <td>[0, 0]</td>\n",
       "      <td>3</td>\n",
       "      <td>I'll start by saying this is the first of four...</td>\n",
       "      <td>04 11, 2014</td>\n",
       "      <td>A3S0H2HV6U1I7F</td>\n",
       "      <td>Merissa</td>\n",
       "      <td>Snapdragon Alley</td>\n",
       "      <td>1397174400</td>\n",
       "    </tr>\n",
       "    <tr>\n",
       "      <th>3</th>\n",
       "      <td>3</td>\n",
       "      <td>7038</td>\n",
       "      <td>B002QHWOEU</td>\n",
       "      <td>[1, 3]</td>\n",
       "      <td>3</td>\n",
       "      <td>Aggie is Angela Lansbury who carries pocketboo...</td>\n",
       "      <td>07 5, 2014</td>\n",
       "      <td>AC4OQW3GZ919J</td>\n",
       "      <td>Cleargrace</td>\n",
       "      <td>very light murder cozy</td>\n",
       "      <td>1404518400</td>\n",
       "    </tr>\n",
       "    <tr>\n",
       "      <th>4</th>\n",
       "      <td>4</td>\n",
       "      <td>1776</td>\n",
       "      <td>B001A06VJ8</td>\n",
       "      <td>[0, 1]</td>\n",
       "      <td>4</td>\n",
       "      <td>I did not expect this type of book to be in li...</td>\n",
       "      <td>12 31, 2012</td>\n",
       "      <td>A3C9V987IQHOQD</td>\n",
       "      <td>Rjostler</td>\n",
       "      <td>Book</td>\n",
       "      <td>1356912000</td>\n",
       "    </tr>\n",
       "  </tbody>\n",
       "</table>\n",
       "</div>"
      ],
      "text/plain": [
       "   Unnamed: 0.1  Unnamed: 0        asin  helpful  rating  \\\n",
       "0             0       11539  B0033UV8HI  [8, 10]       3   \n",
       "1             1        5957  B002HJV4DE   [1, 1]       5   \n",
       "2             2        9146  B002ZG96I4   [0, 0]       3   \n",
       "3             3        7038  B002QHWOEU   [1, 3]       3   \n",
       "4             4        1776  B001A06VJ8   [0, 1]       4   \n",
       "\n",
       "                                          reviewText   reviewTime  \\\n",
       "0  Jace Rankin may be short, but he's nothing to ...   09 2, 2010   \n",
       "1  Great short read.  I didn't want to put it dow...   10 8, 2013   \n",
       "2  I'll start by saying this is the first of four...  04 11, 2014   \n",
       "3  Aggie is Angela Lansbury who carries pocketboo...   07 5, 2014   \n",
       "4  I did not expect this type of book to be in li...  12 31, 2012   \n",
       "\n",
       "       reviewerID  reviewerName                   summary  unixReviewTime  \n",
       "0  A3HHXRELK8BHQG        Ridley  Entertaining But Average      1283385600  \n",
       "1  A2RGNZ0TRF578I  Holly Butler   Terrific menage scenes!      1381190400  \n",
       "2  A3S0H2HV6U1I7F       Merissa          Snapdragon Alley      1397174400  \n",
       "3   AC4OQW3GZ919J    Cleargrace    very light murder cozy      1404518400  \n",
       "4  A3C9V987IQHOQD      Rjostler                      Book      1356912000  "
      ]
     },
     "execution_count": 3,
     "metadata": {},
     "output_type": "execute_result"
    }
   ],
   "source": [
    "df.head()"
   ]
  },
  {
   "cell_type": "code",
   "execution_count": 4,
   "id": "d0e058c6",
   "metadata": {},
   "outputs": [],
   "source": [
    "df = df[['rating','reviewText']]"
   ]
  },
  {
   "cell_type": "code",
   "execution_count": 5,
   "id": "a4e27054",
   "metadata": {},
   "outputs": [
    {
     "data": {
      "text/html": [
       "<div>\n",
       "<style scoped>\n",
       "    .dataframe tbody tr th:only-of-type {\n",
       "        vertical-align: middle;\n",
       "    }\n",
       "\n",
       "    .dataframe tbody tr th {\n",
       "        vertical-align: top;\n",
       "    }\n",
       "\n",
       "    .dataframe thead th {\n",
       "        text-align: right;\n",
       "    }\n",
       "</style>\n",
       "<table border=\"1\" class=\"dataframe\">\n",
       "  <thead>\n",
       "    <tr style=\"text-align: right;\">\n",
       "      <th></th>\n",
       "      <th>rating</th>\n",
       "      <th>reviewText</th>\n",
       "    </tr>\n",
       "  </thead>\n",
       "  <tbody>\n",
       "    <tr>\n",
       "      <th>0</th>\n",
       "      <td>3</td>\n",
       "      <td>Jace Rankin may be short, but he's nothing to ...</td>\n",
       "    </tr>\n",
       "    <tr>\n",
       "      <th>1</th>\n",
       "      <td>5</td>\n",
       "      <td>Great short read.  I didn't want to put it dow...</td>\n",
       "    </tr>\n",
       "    <tr>\n",
       "      <th>2</th>\n",
       "      <td>3</td>\n",
       "      <td>I'll start by saying this is the first of four...</td>\n",
       "    </tr>\n",
       "    <tr>\n",
       "      <th>3</th>\n",
       "      <td>3</td>\n",
       "      <td>Aggie is Angela Lansbury who carries pocketboo...</td>\n",
       "    </tr>\n",
       "    <tr>\n",
       "      <th>4</th>\n",
       "      <td>4</td>\n",
       "      <td>I did not expect this type of book to be in li...</td>\n",
       "    </tr>\n",
       "  </tbody>\n",
       "</table>\n",
       "</div>"
      ],
      "text/plain": [
       "   rating                                         reviewText\n",
       "0       3  Jace Rankin may be short, but he's nothing to ...\n",
       "1       5  Great short read.  I didn't want to put it dow...\n",
       "2       3  I'll start by saying this is the first of four...\n",
       "3       3  Aggie is Angela Lansbury who carries pocketboo...\n",
       "4       4  I did not expect this type of book to be in li..."
      ]
     },
     "execution_count": 5,
     "metadata": {},
     "output_type": "execute_result"
    }
   ],
   "source": [
    "df.head()"
   ]
  },
  {
   "cell_type": "code",
   "execution_count": 6,
   "id": "3851c56c",
   "metadata": {},
   "outputs": [
    {
     "data": {
      "text/plain": [
       "rating        0\n",
       "reviewText    0\n",
       "dtype: int64"
      ]
     },
     "execution_count": 6,
     "metadata": {},
     "output_type": "execute_result"
    }
   ],
   "source": [
    "# check for null values\n",
    "\n",
    "df.isnull().sum()"
   ]
  },
  {
   "cell_type": "code",
   "execution_count": null,
   "id": "329c8689",
   "metadata": {},
   "outputs": [
    {
     "name": "stdout",
     "output_type": "stream",
     "text": [
      "Unique count of the ratings::: rating\n",
      "5    3000\n",
      "4    3000\n",
      "3    2000\n",
      "2    2000\n",
      "1    2000\n",
      "Name: count, dtype: int64\n",
      "unique values of the ratings: [3 5 4 2 1]\n"
     ]
    },
    {
     "data": {
      "text/html": [
       "<div>\n",
       "<style scoped>\n",
       "    .dataframe tbody tr th:only-of-type {\n",
       "        vertical-align: middle;\n",
       "    }\n",
       "\n",
       "    .dataframe tbody tr th {\n",
       "        vertical-align: top;\n",
       "    }\n",
       "\n",
       "    .dataframe thead th {\n",
       "        text-align: right;\n",
       "    }\n",
       "</style>\n",
       "<table border=\"1\" class=\"dataframe\">\n",
       "  <thead>\n",
       "    <tr style=\"text-align: right;\">\n",
       "      <th></th>\n",
       "      <th>rating</th>\n",
       "      <th>reviewText</th>\n",
       "    </tr>\n",
       "  </thead>\n",
       "  <tbody>\n",
       "    <tr>\n",
       "      <th>0</th>\n",
       "      <td>1</td>\n",
       "      <td>Jace Rankin may be short, but he's nothing to ...</td>\n",
       "    </tr>\n",
       "    <tr>\n",
       "      <th>1</th>\n",
       "      <td>1</td>\n",
       "      <td>Great short read.  I didn't want to put it dow...</td>\n",
       "    </tr>\n",
       "    <tr>\n",
       "      <th>2</th>\n",
       "      <td>1</td>\n",
       "      <td>I'll start by saying this is the first of four...</td>\n",
       "    </tr>\n",
       "    <tr>\n",
       "      <th>3</th>\n",
       "      <td>1</td>\n",
       "      <td>Aggie is Angela Lansbury who carries pocketboo...</td>\n",
       "    </tr>\n",
       "    <tr>\n",
       "      <th>4</th>\n",
       "      <td>1</td>\n",
       "      <td>I did not expect this type of book to be in li...</td>\n",
       "    </tr>\n",
       "  </tbody>\n",
       "</table>\n",
       "</div>"
      ],
      "text/plain": [
       "   rating                                         reviewText\n",
       "0       1  Jace Rankin may be short, but he's nothing to ...\n",
       "1       1  Great short read.  I didn't want to put it dow...\n",
       "2       1  I'll start by saying this is the first of four...\n",
       "3       1  Aggie is Angela Lansbury who carries pocketboo...\n",
       "4       1  I did not expect this type of book to be in li..."
      ]
     },
     "execution_count": 10,
     "metadata": {},
     "output_type": "execute_result"
    }
   ],
   "source": [
    "# check for the value count of the ratings, we can give positive rating(1) if rating is more or equal to 3 and negative rating wif rating is less than 3\n",
    "\n",
    "print('Unique count of the ratings:::',df['rating'].value_counts()) # checking if the data set is imbalanced or balanced\n",
    "\n",
    "print('unique values of the ratings:',df['rating'].unique()) # checking for the unique value ratings\n",
    "\n",
    "df['rating']=df['rating'].apply(lambda x: 0 if x<3  else 1)\n",
    "\n",
    "df.head()"
   ]
  },
  {
   "cell_type": "code",
   "execution_count": 17,
   "id": "4cac245c",
   "metadata": {},
   "outputs": [],
   "source": [
    "df['reviewText'] = df['reviewText'].str.lower()\n",
    "df['reviewText'] = df['reviewText'].apply(lambda x: re.sub('[^A-Z a-z 0-9]+','',x))\n",
    "df['reviewText'] = df['reviewText'].apply(lambda x: \" \".join([y for y in x.split() if y  not in stopwords.words('english')]))"
   ]
  },
  {
   "cell_type": "code",
   "execution_count": 19,
   "id": "5ac29358",
   "metadata": {},
   "outputs": [],
   "source": [
    "# apply lemmatization\n",
    "lematizer = WordNetLemmatizer()\n",
    "df['reviewText'] = df['reviewText'].apply(lambda x: lematizer.lemmatize(x))"
   ]
  },
  {
   "cell_type": "code",
   "execution_count": 20,
   "id": "beb834e1",
   "metadata": {},
   "outputs": [
    {
     "data": {
      "text/plain": [
       "0    jace rankin may short hes nothing mess man hau...\n",
       "1    great short read didnt want put read one sitti...\n",
       "2    ill start saying first four books wasnt expect...\n",
       "3    aggie angela lansbury carries pocketbooks inst...\n",
       "4    expect type book library pleased find price right\n",
       "Name: reviewText, dtype: object"
      ]
     },
     "execution_count": 20,
     "metadata": {},
     "output_type": "execute_result"
    }
   ],
   "source": [
    "df['reviewText'].head()"
   ]
  },
  {
   "cell_type": "code",
   "execution_count": 37,
   "id": "406f7c89",
   "metadata": {},
   "outputs": [],
   "source": [
    "# Split the training and test data using train_test_split\n",
    "from sklearn.model_selection import train_test_split\n",
    "\n",
    "X_train,X_test,Y_train,Y_test = train_test_split(df['reviewText'],df['rating'],test_size=0.25,random_state=42)\n"
   ]
  },
  {
   "cell_type": "code",
   "execution_count": 38,
   "id": "d270d709",
   "metadata": {},
   "outputs": [
    {
     "name": "stdout",
     "output_type": "stream",
     "text": [
      "training input feature size: 9000\n",
      "training output feature size: 9000\n",
      "test input feature size: 3000\n",
      "test output feature size: 3000\n"
     ]
    }
   ],
   "source": [
    "print(\"training input feature size:\",X_train.size)\n",
    "print(\"training output feature size:\",Y_train.size)\n",
    "print(\"test input feature size:\",X_test.size)\n",
    "print(\"test output feature size:\",Y_test.size)\n"
   ]
  },
  {
   "cell_type": "code",
   "execution_count": 39,
   "id": "8bd5cbfd",
   "metadata": {},
   "outputs": [],
   "source": [
    "# Apply the BOW for converting the data into vectors\n",
    "\n",
    "from sklearn.feature_extraction.text import CountVectorizer\n",
    "bow_model = CountVectorizer(ngram_range=(1,1))\n",
    "\n",
    "X_train_converted=bow_model.fit_transform(X_train)\n",
    "X_test_converted=bow_model.transform(X_test)\n"
   ]
  },
  {
   "cell_type": "code",
   "execution_count": 40,
   "id": "e2069fd6",
   "metadata": {},
   "outputs": [],
   "source": [
    "X_train_converted = X_train_converted\n",
    "X_test_converted = X_test_converted"
   ]
  },
  {
   "cell_type": "code",
   "execution_count": 42,
   "id": "1c7c5356",
   "metadata": {},
   "outputs": [
    {
     "name": "stdout",
     "output_type": "stream",
     "text": [
      "confusion matrix : [[ 698  326]\n",
      " [ 149 1827]]\n",
      "accuracy score  0.8416666666666667\n"
     ]
    }
   ],
   "source": [
    "from sklearn.naive_bayes import MultinomialNB\n",
    "\n",
    "naive_model = MultinomialNB()\n",
    "naive_model.fit(X_train_converted,Y_train)\n",
    "\n",
    "Y_test_predicted_BOW=naive_model.predict(X_test_converted)\n",
    "\n",
    "from sklearn.metrics import confusion_matrix,accuracy_score\n",
    "\n",
    "print('confusion matrix :',confusion_matrix(y_true=Y_test,y_pred=Y_test_predicted_BOW))\n",
    "print('accuracy score ',accuracy_score(y_true=Y_test,y_pred=Y_test_predicted_BOW))"
   ]
  },
  {
   "cell_type": "code",
   "execution_count": 43,
   "id": "438663f5",
   "metadata": {},
   "outputs": [
    {
     "name": "stdout",
     "output_type": "stream",
     "text": [
      "confusion matrix : [[  83  941]\n",
      " [   2 1974]]\n",
      "accuracy score  0.6856666666666666\n"
     ]
    }
   ],
   "source": [
    "# Apply TFIDF model to convert the data  to vectors\n",
    "from sklearn.feature_extraction.text import TfidfVectorizer\n",
    "\n",
    "tfidf_vector = TfidfVectorizer()\n",
    "X_train_converted_tfidf= tfidf_vector.fit_transform(X_train)\n",
    "X_test_converted_tfidf = tfidf_vector.transform(X_test)\n",
    "\n",
    "\n",
    "from sklearn.naive_bayes import MultinomialNB\n",
    "\n",
    "naive_model = MultinomialNB()\n",
    "naive_model.fit(X_train_converted_tfidf,Y_train)\n",
    "\n",
    "Y_test_predicted_tfidf=naive_model.predict(X_test_converted_tfidf)\n",
    "\n",
    "from sklearn.metrics import confusion_matrix,accuracy_score\n",
    "\n",
    "print('confusion matrix :',confusion_matrix(y_true=Y_test,y_pred=Y_test_predicted_tfidf))\n",
    "print('accuracy score ',accuracy_score(y_true=Y_test,y_pred=Y_test_predicted_tfidf))"
   ]
  },
  {
   "cell_type": "code",
   "execution_count": 71,
   "id": "6160e804",
   "metadata": {},
   "outputs": [
    {
     "name": "stdout",
     "output_type": "stream",
     "text": [
      "confusion matrix : [[ 839  185]\n",
      " [ 539 1437]]\n",
      "accuracy score  0.7586666666666667\n",
      "Sample prediction: 1\n"
     ]
    }
   ],
   "source": [
    "# Apply Word2Vec model to convert the data into vectors\n",
    "\n",
    "from gensim.models import Word2Vec\n",
    "from sklearn.naive_bayes import GaussianNB\n",
    "from sklearn.metrics import confusion_matrix, accuracy_score\n",
    "\n",
    "\n",
    "\n",
    "# Prepare data for Word2Vec: tokenize sentences\n",
    "X_train_tokens = X_train.apply(lambda x: x.split())\n",
    "X_test_tokens = X_test.apply(lambda x: x.split())\n",
    "\n",
    "# Train Word2Vec model on tokenized training data\n",
    "word2vec_model = Word2Vec(sentences=X_train_tokens, vector_size=100, window=5, min_count=1, workers=4, epochs=25)\n",
    "\n",
    "# Function to get average Word2Vec vector for a document\n",
    "def average_word2vec(tokens, model, vector_size=100):\n",
    "    vectors = [model.wv[w] for w in tokens if w in model.wv]\n",
    "    if len(vectors) == 0:\n",
    "        return np.zeros(vector_size)\n",
    "    else:\n",
    "        return np.mean(vectors, axis=0)\n",
    "\n",
    "# Transform train and test data to average Word2Vec vectors\n",
    "X_train_avg_w2v = np.vstack([average_word2vec(tokens, word2vec_model) for tokens in X_train_tokens])\n",
    "X_test_avg_w2v = np.vstack([average_word2vec(tokens, word2vec_model) for tokens in X_test_tokens])\n",
    "\n",
    "# Fit Naive Bayes (GaussianNB is suitable for continuous features like Word2Vec)\n",
    "\n",
    "gnb = GaussianNB()\n",
    "gnb.fit(X_train_avg_w2v, Y_train)\n",
    "\n",
    "# Predict on test set\n",
    "Y_test_predicted_w2v = gnb.predict(X_test_avg_w2v)\n",
    "\n",
    "\n",
    "print('confusion matrix :', confusion_matrix(y_true=Y_test, y_pred=Y_test_predicted_w2v))\n",
    "print('accuracy score ', accuracy_score(y_true=Y_test, y_pred=Y_test_predicted_w2v))\n",
    "\n",
    "# Predict a sample data\n",
    "sample_text = \"this book was very interesting and enjoyable\"\n",
    "sample_tokens = sample_text.lower().split()\n",
    "sample_vector = average_word2vec(sample_tokens, word2vec_model).reshape(1, -1)\n",
    "sample_prediction = gnb.predict(sample_vector)\n",
    "print(\"Sample prediction:\", sample_prediction[0])\n"
   ]
  },
  {
   "cell_type": "code",
   "execution_count": 76,
   "id": "ec55065d",
   "metadata": {},
   "outputs": [],
   "source": [
    "X_train_tokens_sample = X_train.apply(lambda x: x.split())\n",
    "X_test_tokens_sample = X_test.apply(lambda x: x.split())\n"
   ]
  },
  {
   "cell_type": "code",
   "execution_count": 74,
   "id": "638fe2c2",
   "metadata": {},
   "outputs": [],
   "source": [
    "word2vec_model_sample = Word2Vec(sentences=X_train_tokens_sample,vector_size=100,epochs=25)"
   ]
  },
  {
   "cell_type": "code",
   "execution_count": 77,
   "id": "5e7c77b4",
   "metadata": {},
   "outputs": [
    {
     "data": {
      "text/plain": [
       "11675    [short, enough, read, chili, cooking, keeps, i...\n",
       "10950    [jolene, benate, top, world, coveted, spot, wa...\n",
       "4256     [man, load, one, lets, see, 35, year, old, vir...\n",
       "10088    [characters, good, like, way, main, character,...\n",
       "9030     [much, say, hot, good, story, quick, read, wor...\n",
       "                               ...                        \n",
       "11964    [downloaded, book, reading, reviews, usually, ...\n",
       "5191     [far, one, hottest, books, ive, ever, gotten, ...\n",
       "5390     [even, though, book, free, reservations, based...\n",
       "860      [little, mushy, 34must, take, care, women, fol...\n",
       "7270     [book, good, good, set, charaterswith, backgro...\n",
       "Name: reviewText, Length: 9000, dtype: object"
      ]
     },
     "execution_count": 77,
     "metadata": {},
     "output_type": "execute_result"
    }
   ],
   "source": [
    "X_train_tokens_sample    "
   ]
  },
  {
   "cell_type": "code",
   "execution_count": 78,
   "id": "37dd2ad6",
   "metadata": {},
   "outputs": [],
   "source": [
    "X_train_tokens_sample = X_train.apply(lambda x: x.split())\n",
    "X_test_tokens_sample = X_test.apply(lambda x: x.split())\n",
    "\n",
    "word2vec_model_new = Word2Vec(sentences=X_train_tokens_sample,epochs=25)\n",
    "\n"
   ]
  },
  {
   "cell_type": "code",
   "execution_count": null,
   "id": "2f79ef0d",
   "metadata": {},
   "outputs": [],
   "source": []
  }
 ],
 "metadata": {
  "kernelspec": {
   "display_name": "base",
   "language": "python",
   "name": "python3"
  },
  "language_info": {
   "codemirror_mode": {
    "name": "ipython",
    "version": 3
   },
   "file_extension": ".py",
   "mimetype": "text/x-python",
   "name": "python",
   "nbconvert_exporter": "python",
   "pygments_lexer": "ipython3",
   "version": "3.12.11"
  }
 },
 "nbformat": 4,
 "nbformat_minor": 5
}
