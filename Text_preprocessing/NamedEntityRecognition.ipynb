{
 "cells": [
  {
   "cell_type": "code",
   "execution_count": 2,
   "id": "1b62b57c",
   "metadata": {},
   "outputs": [],
   "source": [
    "import nltk\n"
   ]
  },
  {
   "cell_type": "code",
   "execution_count": 3,
   "id": "7b25596d",
   "metadata": {},
   "outputs": [],
   "source": [
    "corpus ='''\n",
    "Humans can quickly recognize a word, categorize it and understand the context. For example, when you hear the word 'Steve Jobs,' you can immediately think of at least three to four attributes and segregate the entity into categories, Person: Steve Jobs. Company: Apple.\n",
    "'''"
   ]
  },
  {
   "cell_type": "code",
   "execution_count": 4,
   "id": "de25ca0b",
   "metadata": {},
   "outputs": [],
   "source": [
    "words = nltk.word_tokenize(text=corpus)"
   ]
  },
  {
   "cell_type": "code",
   "execution_count": 5,
   "id": "000050fd",
   "metadata": {},
   "outputs": [
    {
     "name": "stderr",
     "output_type": "stream",
     "text": [
      "[nltk_data] Downloading package maxent_ne_chunker_tab to\n",
      "[nltk_data]     /Users/manikantamukkapati/nltk_data...\n",
      "[nltk_data]   Package maxent_ne_chunker_tab is already up-to-date!\n"
     ]
    },
    {
     "data": {
      "text/plain": [
       "True"
      ]
     },
     "execution_count": 5,
     "metadata": {},
     "output_type": "execute_result"
    }
   ],
   "source": [
    "nltk.download('maxent_ne_chunker_tab')"
   ]
  },
  {
   "cell_type": "code",
   "execution_count": 6,
   "id": "642b3027",
   "metadata": {},
   "outputs": [
    {
     "name": "stderr",
     "output_type": "stream",
     "text": [
      "[nltk_data] Downloading package words to\n",
      "[nltk_data]     /Users/manikantamukkapati/nltk_data...\n",
      "[nltk_data]   Package words is already up-to-date!\n"
     ]
    },
    {
     "data": {
      "text/plain": [
       "True"
      ]
     },
     "execution_count": 6,
     "metadata": {},
     "output_type": "execute_result"
    }
   ],
   "source": [
    "nltk.download('words')"
   ]
  },
  {
   "cell_type": "code",
   "execution_count": 7,
   "id": "85ff9282",
   "metadata": {},
   "outputs": [
    {
     "data": {
      "text/plain": [
       "['Humans',\n",
       " 'can',\n",
       " 'quickly',\n",
       " 'recognize',\n",
       " 'a',\n",
       " 'word',\n",
       " ',',\n",
       " 'categorize',\n",
       " 'it',\n",
       " 'and',\n",
       " 'understand',\n",
       " 'the',\n",
       " 'context',\n",
       " '.',\n",
       " 'For',\n",
       " 'example',\n",
       " ',',\n",
       " 'when',\n",
       " 'you',\n",
       " 'hear',\n",
       " 'the',\n",
       " 'word',\n",
       " \"'Steve\",\n",
       " 'Jobs',\n",
       " ',',\n",
       " \"'\",\n",
       " 'you',\n",
       " 'can',\n",
       " 'immediately',\n",
       " 'think',\n",
       " 'of',\n",
       " 'at',\n",
       " 'least',\n",
       " 'three',\n",
       " 'to',\n",
       " 'four',\n",
       " 'attributes',\n",
       " 'and',\n",
       " 'segregate',\n",
       " 'the',\n",
       " 'entity',\n",
       " 'into',\n",
       " 'categories',\n",
       " ',',\n",
       " 'Person',\n",
       " ':',\n",
       " 'Steve',\n",
       " 'Jobs',\n",
       " '.',\n",
       " 'Company',\n",
       " ':',\n",
       " 'Apple',\n",
       " '.']"
      ]
     },
     "execution_count": 7,
     "metadata": {},
     "output_type": "execute_result"
    }
   ],
   "source": [
    "words"
   ]
  },
  {
   "cell_type": "code",
   "execution_count": 10,
   "id": "0cb0503c",
   "metadata": {},
   "outputs": [
    {
     "name": "stdout",
     "output_type": "stream",
     "text": [
      "(S\n",
      "  Humans/NNS\n",
      "  can/MD\n",
      "  quickly/RB\n",
      "  recognize/VB\n",
      "  a/DT\n",
      "  word/NN\n",
      "  ,/,\n",
      "  categorize/VB\n",
      "  it/PRP\n",
      "  and/CC\n",
      "  understand/VB\n",
      "  the/DT\n",
      "  context/NN\n",
      "  ./.\n",
      "  For/IN\n",
      "  example/NN\n",
      "  ,/,\n",
      "  when/WRB\n",
      "  you/PRP\n",
      "  hear/VBP\n",
      "  the/DT\n",
      "  word/NN\n",
      "  'Steve/POS\n",
      "  Jobs/NNP\n",
      "  ,/,\n",
      "  '/''\n",
      "  you/PRP\n",
      "  can/MD\n",
      "  immediately/RB\n",
      "  think/VB\n",
      "  of/IN\n",
      "  at/IN\n",
      "  least/JJS\n",
      "  three/CD\n",
      "  to/TO\n",
      "  four/CD\n",
      "  attributes/NNS\n",
      "  and/CC\n",
      "  segregate/VB\n",
      "  the/DT\n",
      "  entity/NN\n",
      "  into/IN\n",
      "  categories/NNS\n",
      "  ,/,\n",
      "  (PERSON Person/NNP)\n",
      "  :/:\n",
      "  (PERSON Steve/NNP Jobs/NNP)\n",
      "  ./.\n",
      "  Company/NN\n",
      "  :/:\n",
      "  Apple/NNP\n",
      "  ./.)\n"
     ]
    }
   ],
   "source": [
    "print(nltk.ne_chunk(nltk.pos_tag(words)))"
   ]
  },
  {
   "cell_type": "code",
   "execution_count": 9,
   "id": "d475cfbe",
   "metadata": {},
   "outputs": [
    {
     "name": "stdout",
     "output_type": "stream",
     "text": [
      "(S\n",
      "  Humans/NNS\n",
      "  can/MD\n",
      "  quickly/RB\n",
      "  recognize/VB\n",
      "  a/DT\n",
      "  word/NN\n",
      "  ,/,\n",
      "  categorize/VB\n",
      "  it/PRP\n",
      "  and/CC\n",
      "  understand/VB\n",
      "  the/DT\n",
      "  context/NN\n",
      "  ./.\n",
      "  For/IN\n",
      "  example/NN\n",
      "  ,/,\n",
      "  when/WRB\n",
      "  you/PRP\n",
      "  hear/VBP\n",
      "  the/DT\n",
      "  word/NN\n",
      "  'Steve/POS\n",
      "  Jobs/NNP\n",
      "  ,/,\n",
      "  '/''\n",
      "  you/PRP\n",
      "  can/MD\n",
      "  immediately/RB\n",
      "  think/VB\n",
      "  of/IN\n",
      "  at/IN\n",
      "  least/JJS\n",
      "  three/CD\n",
      "  to/TO\n",
      "  four/CD\n",
      "  attributes/NNS\n",
      "  and/CC\n",
      "  segregate/VB\n",
      "  the/DT\n",
      "  entity/NN\n",
      "  into/IN\n",
      "  categories/NNS\n",
      "  ,/,\n",
      "  (PERSON Person/NNP)\n",
      "  :/:\n",
      "  (PERSON Steve/NNP Jobs/NNP)\n",
      "  ./.\n",
      "  Company/NN\n",
      "  :/:\n",
      "  Apple/NNP\n",
      "  ./.)\n"
     ]
    }
   ],
   "source": [
    "print(nltk.ne_chunk(nltk.pos_tag(words)))"
   ]
  }
 ],
 "metadata": {
  "kernelspec": {
   "display_name": "Python 3",
   "language": "python",
   "name": "python3"
  },
  "language_info": {
   "codemirror_mode": {
    "name": "ipython",
    "version": 3
   },
   "file_extension": ".py",
   "mimetype": "text/x-python",
   "name": "python",
   "nbconvert_exporter": "python",
   "pygments_lexer": "ipython3",
   "version": "3.undefined.undefined"
  }
 },
 "nbformat": 4,
 "nbformat_minor": 5
}
