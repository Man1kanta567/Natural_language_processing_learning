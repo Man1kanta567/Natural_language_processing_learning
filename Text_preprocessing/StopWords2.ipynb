{
 "cells": [
  {
   "cell_type": "code",
   "execution_count": 1,
   "id": "42f93a9f",
   "metadata": {},
   "outputs": [],
   "source": [
    "from nltk.tokenize import sent_tokenize\n",
    "from nltk.stem import PorterStemmer\n",
    "from nltk.corpus import stopwords "
   ]
  },
  {
   "cell_type": "code",
   "execution_count": 42,
   "id": "351bbaf3",
   "metadata": {},
   "outputs": [],
   "source": [
    "corpus='''\n",
    "Today, I am honoured to speak about one of India's most revered figures, Dr. APJ Abdul Kalam, fondly known as the \"Missile Man of India\" and the \"People's President.\" His life is a testament to dedication, perseverance, and the power of dreams.\n",
    "Dr. Kalam was born in 1931 in a small town called Rameswaram. He hailed from a humble background but was driven by a passion for science and technology. His academic journey was marked by determination, as he worked tirelessly to overcome challenges and become a key figure in India's space and defence programs. As an aerospace scientist, he played a pivotal role in the development of India's missile systems, including the Agni and Prithvi missiles.\n",
    "In 2002, Dr. Kalam became the 11th President of India, a position he used to inspire millions of young minds across the country. His vision for India’s future was based on empowering youth and fostering innovation. He always emphasised that \"Dream, Dream, Dream\" because dreams shape the future. His love for children and his belief in their potential made him an extraordinary leader who was always accessible to the people.\n",
    "Even after his presidency, Dr. Kalam continued to contribute to society through his lectures, books, and interactions with students, always urging them to follow their passion and make a positive impact on the world.\n",
    "Dr. Kalam’s life reminds us that with hard work, determination, and a vision, we can achieve greatness, no matter where we come from. His legacy continues to inspire not only India but the entire world.\n",
    "\n",
    "\n",
    "\n",
    "'''"
   ]
  },
  {
   "cell_type": "code",
   "execution_count": 43,
   "id": "a9e9f09b",
   "metadata": {},
   "outputs": [
    {
     "name": "stderr",
     "output_type": "stream",
     "text": [
      "[nltk_data] Downloading package punkt_tab to\n",
      "[nltk_data]     /Users/manikantamukkapati/nltk_data...\n",
      "[nltk_data]   Package punkt_tab is already up-to-date!\n"
     ]
    }
   ],
   "source": [
    "import nltk\n",
    "nltk.download('punkt_tab')\n",
    "\n",
    "sentences = sent_tokenize(corpus)"
   ]
  },
  {
   "cell_type": "code",
   "execution_count": 37,
   "id": "c24f3f28",
   "metadata": {},
   "outputs": [
    {
     "data": {
      "text/plain": [
       "['\\nToday, I am honoured to speak about one of India\\'s most revered figures, Dr. APJ Abdul Kalam, fondly known as the \"Missile Man of India\" and the \"People\\'s President.\"',\n",
       " 'His life is a testament to dedication, perseverance, and the power of dreams.',\n",
       " 'Dr. Kalam was born in 1931 in a small town called Rameswaram.',\n",
       " 'He hailed from a humble background but was driven by a passion for science and technology.',\n",
       " \"His academic journey was marked by determination, as he worked tirelessly to overcome challenges and become a key figure in India's space and defence programs.\",\n",
       " \"As an aerospace scientist, he played a pivotal role in the development of India's missile systems, including the Agni and Prithvi missiles.\",\n",
       " 'In 2002, Dr. Kalam became the 11th President of India, a position he used to inspire millions of young minds across the country.',\n",
       " 'His vision for India’s future was based on empowering youth and fostering innovation.',\n",
       " 'He always emphasised that \"Dream, Dream, Dream\" because dreams shape the future.',\n",
       " 'His love for children and his belief in their potential made him an extraordinary leader who was always accessible to the people.',\n",
       " 'Even after his presidency, Dr. Kalam continued to contribute to society through his lectures, books, and interactions with students, always urging them to follow their passion and make a positive impact on the world.',\n",
       " 'Dr. Kalam’s life reminds us that with hard work, determination, and a vision, we can achieve greatness, no matter where we come from.',\n",
       " 'His legacy continues to inspire not only India but the entire world.']"
      ]
     },
     "execution_count": 37,
     "metadata": {},
     "output_type": "execute_result"
    }
   ],
   "source": [
    "sentences"
   ]
  },
  {
   "cell_type": "markdown",
   "id": "738155ea",
   "metadata": {},
   "source": [
    "1. convert the sentences into words using word tokenizer\n",
    "\n",
    "2. filter the stop words using StopWords and convert back into sentence\n",
    "\n",
    "3. using stemiing and lemmatization techniques trim the words and return  "
   ]
  },
  {
   "cell_type": "code",
   "execution_count": 17,
   "id": "f3bb061f",
   "metadata": {},
   "outputs": [
    {
     "data": {
      "text/plain": [
       "['a',\n",
       " 'about',\n",
       " 'above',\n",
       " 'after',\n",
       " 'again',\n",
       " 'against',\n",
       " 'ain',\n",
       " 'all',\n",
       " 'am',\n",
       " 'an',\n",
       " 'and',\n",
       " 'any',\n",
       " 'are',\n",
       " 'aren',\n",
       " \"aren't\",\n",
       " 'as',\n",
       " 'at',\n",
       " 'be',\n",
       " 'because',\n",
       " 'been',\n",
       " 'before',\n",
       " 'being',\n",
       " 'below',\n",
       " 'between',\n",
       " 'both',\n",
       " 'but',\n",
       " 'by',\n",
       " 'can',\n",
       " 'couldn',\n",
       " \"couldn't\",\n",
       " 'd',\n",
       " 'did',\n",
       " 'didn',\n",
       " \"didn't\",\n",
       " 'do',\n",
       " 'does',\n",
       " 'doesn',\n",
       " \"doesn't\",\n",
       " 'doing',\n",
       " 'don',\n",
       " \"don't\",\n",
       " 'down',\n",
       " 'during',\n",
       " 'each',\n",
       " 'few',\n",
       " 'for',\n",
       " 'from',\n",
       " 'further',\n",
       " 'had',\n",
       " 'hadn',\n",
       " \"hadn't\",\n",
       " 'has',\n",
       " 'hasn',\n",
       " \"hasn't\",\n",
       " 'have',\n",
       " 'haven',\n",
       " \"haven't\",\n",
       " 'having',\n",
       " 'he',\n",
       " \"he'd\",\n",
       " \"he'll\",\n",
       " 'her',\n",
       " 'here',\n",
       " 'hers',\n",
       " 'herself',\n",
       " \"he's\",\n",
       " 'him',\n",
       " 'himself',\n",
       " 'his',\n",
       " 'how',\n",
       " 'i',\n",
       " \"i'd\",\n",
       " 'if',\n",
       " \"i'll\",\n",
       " \"i'm\",\n",
       " 'in',\n",
       " 'into',\n",
       " 'is',\n",
       " 'isn',\n",
       " \"isn't\",\n",
       " 'it',\n",
       " \"it'd\",\n",
       " \"it'll\",\n",
       " \"it's\",\n",
       " 'its',\n",
       " 'itself',\n",
       " \"i've\",\n",
       " 'just',\n",
       " 'll',\n",
       " 'm',\n",
       " 'ma',\n",
       " 'me',\n",
       " 'mightn',\n",
       " \"mightn't\",\n",
       " 'more',\n",
       " 'most',\n",
       " 'mustn',\n",
       " \"mustn't\",\n",
       " 'my',\n",
       " 'myself',\n",
       " 'needn',\n",
       " \"needn't\",\n",
       " 'no',\n",
       " 'nor',\n",
       " 'not',\n",
       " 'now',\n",
       " 'o',\n",
       " 'of',\n",
       " 'off',\n",
       " 'on',\n",
       " 'once',\n",
       " 'only',\n",
       " 'or',\n",
       " 'other',\n",
       " 'our',\n",
       " 'ours',\n",
       " 'ourselves',\n",
       " 'out',\n",
       " 'over',\n",
       " 'own',\n",
       " 're',\n",
       " 's',\n",
       " 'same',\n",
       " 'shan',\n",
       " \"shan't\",\n",
       " 'she',\n",
       " \"she'd\",\n",
       " \"she'll\",\n",
       " \"she's\",\n",
       " 'should',\n",
       " 'shouldn',\n",
       " \"shouldn't\",\n",
       " \"should've\",\n",
       " 'so',\n",
       " 'some',\n",
       " 'such',\n",
       " 't',\n",
       " 'than',\n",
       " 'that',\n",
       " \"that'll\",\n",
       " 'the',\n",
       " 'their',\n",
       " 'theirs',\n",
       " 'them',\n",
       " 'themselves',\n",
       " 'then',\n",
       " 'there',\n",
       " 'these',\n",
       " 'they',\n",
       " \"they'd\",\n",
       " \"they'll\",\n",
       " \"they're\",\n",
       " \"they've\",\n",
       " 'this',\n",
       " 'those',\n",
       " 'through',\n",
       " 'to',\n",
       " 'too',\n",
       " 'under',\n",
       " 'until',\n",
       " 'up',\n",
       " 've',\n",
       " 'very',\n",
       " 'was',\n",
       " 'wasn',\n",
       " \"wasn't\",\n",
       " 'we',\n",
       " \"we'd\",\n",
       " \"we'll\",\n",
       " \"we're\",\n",
       " 'were',\n",
       " 'weren',\n",
       " \"weren't\",\n",
       " \"we've\",\n",
       " 'what',\n",
       " 'when',\n",
       " 'where',\n",
       " 'which',\n",
       " 'while',\n",
       " 'who',\n",
       " 'whom',\n",
       " 'why',\n",
       " 'will',\n",
       " 'with',\n",
       " 'won',\n",
       " \"won't\",\n",
       " 'wouldn',\n",
       " \"wouldn't\",\n",
       " 'y',\n",
       " 'you',\n",
       " \"you'd\",\n",
       " \"you'll\",\n",
       " 'your',\n",
       " \"you're\",\n",
       " 'yours',\n",
       " 'yourself',\n",
       " 'yourselves',\n",
       " \"you've\"]"
      ]
     },
     "execution_count": 17,
     "metadata": {},
     "output_type": "execute_result"
    }
   ],
   "source": [
    "stopwords.words('english')"
   ]
  },
  {
   "cell_type": "code",
   "execution_count": 18,
   "id": "3c588330",
   "metadata": {},
   "outputs": [],
   "source": [
    "porterStemmer = PorterStemmer()"
   ]
  },
  {
   "cell_type": "code",
   "execution_count": 27,
   "id": "2ecbee88",
   "metadata": {},
   "outputs": [],
   "source": [
    "for i in range(len(sentences)):\n",
    "    words = nltk.word_tokenize(sentences[i])\n",
    "    words = [porterStemmer.stem(word) for word in words if word not in set(stopwords.words('english'))]\n",
    "    sentences[i] = ' '.join(words)"
   ]
  },
  {
   "cell_type": "code",
   "execution_count": 28,
   "id": "b594a3dc",
   "metadata": {},
   "outputs": [
    {
     "data": {
      "text/plain": [
       "[\"today , i honour speak one india 's rever figur , dr. apj abdul kalam , fondli known `` missil man india '' `` peopl 's presid . ''\",\n",
       " 'hi life testament dedic , persever , power dream .',\n",
       " 'dr. kalam born 1931 small town call rameswaram .',\n",
       " 'he hail humbl background driven passion scienc technolog .',\n",
       " \"hi academ journey mark determin , work tirelessli overcom challeng becom key figur india 's space defenc program .\",\n",
       " \"as aerospac scientist , play pivot role develop india 's missil system , includ agni prithvi missil .\",\n",
       " 'in 2002 , dr. kalam becam 11th presid india , posit use inspir million young mind across countri .',\n",
       " 'hi vision india ’ futur base empow youth foster innov .',\n",
       " \"he alway emphasis `` dream , dream , dream '' dream shape futur .\",\n",
       " 'hi love children belief potenti made extraordinari leader alway access peopl .',\n",
       " 'even presid , dr. kalam continu contribut societi lectur , book , interact student , alway urg follow passion make posit impact world .',\n",
       " 'dr. kalam ’ life remind us hard work , determin , vision , achiev great , matter come .',\n",
       " 'hi legaci continu inspir india entir world .']"
      ]
     },
     "execution_count": 28,
     "metadata": {},
     "output_type": "execute_result"
    }
   ],
   "source": [
    "sentences"
   ]
  },
  {
   "cell_type": "markdown",
   "id": "c47ccdfb",
   "metadata": {},
   "source": [
    "Use the snowball stemming technique for better results"
   ]
  },
  {
   "cell_type": "code",
   "execution_count": 30,
   "id": "53daad50",
   "metadata": {},
   "outputs": [
    {
     "data": {
      "text/plain": [
       "'go'"
      ]
     },
     "execution_count": 30,
     "metadata": {},
     "output_type": "execute_result"
    }
   ],
   "source": [
    "from nltk.stem import SnowballStemmer\n",
    "snowballstemmer = SnowballStemmer('english')\n",
    "snowballstemmer.stem('going')"
   ]
  },
  {
   "cell_type": "code",
   "execution_count": 38,
   "id": "bdb6d3bc",
   "metadata": {},
   "outputs": [],
   "source": [
    "for i in range(len(sentences)):\n",
    "    words = nltk.word_tokenize(sentences[i])\n",
    "    words = [snowballstemmer.stem(word) for word in words if word not in set(stopwords.words('english'))]\n",
    "    sentences[i] = ' '.join(words)"
   ]
  },
  {
   "cell_type": "code",
   "execution_count": 39,
   "id": "1f27a41b",
   "metadata": {},
   "outputs": [
    {
     "data": {
      "text/plain": [
       "[\"today , i honour speak one india 's rever figur , dr. apj abdul kalam , fond known `` missil man india '' `` peopl 's presid . ''\",\n",
       " 'his life testament dedic , persever , power dream .',\n",
       " 'dr. kalam born 1931 small town call rameswaram .',\n",
       " 'he hail humbl background driven passion scienc technolog .',\n",
       " \"his academ journey mark determin , work tireless overcom challeng becom key figur india 's space defenc program .\",\n",
       " \"as aerospac scientist , play pivot role develop india 's missil system , includ agni prithvi missil .\",\n",
       " 'in 2002 , dr. kalam becam 11th presid india , posit use inspir million young mind across countri .',\n",
       " 'his vision india ’ futur base empow youth foster innov .',\n",
       " \"he alway emphasis `` dream , dream , dream '' dream shape futur .\",\n",
       " 'his love children belief potenti made extraordinari leader alway access peopl .',\n",
       " 'even presid , dr. kalam continu contribut societi lectur , book , interact student , alway urg follow passion make posit impact world .',\n",
       " 'dr. kalam ’ life remind us hard work , determin , vision , achiev great , matter come .',\n",
       " 'his legaci continu inspir india entir world .']"
      ]
     },
     "execution_count": 39,
     "metadata": {},
     "output_type": "execute_result"
    }
   ],
   "source": [
    "sentences"
   ]
  },
  {
   "cell_type": "markdown",
   "id": "09e08a5a",
   "metadata": {},
   "source": [
    "now use the lemmatization technique and see if it is giving better results"
   ]
  },
  {
   "cell_type": "code",
   "execution_count": 41,
   "id": "88711110",
   "metadata": {},
   "outputs": [],
   "source": [
    "from nltk.stem import WordNetLemmatizer\n",
    "lemmatizer = WordNetLemmatizer()"
   ]
  },
  {
   "cell_type": "code",
   "execution_count": 46,
   "id": "01ed206e",
   "metadata": {},
   "outputs": [],
   "source": [
    "for i in range(len(sentences)):\n",
    "    words = nltk.word_tokenize(sentences[i])\n",
    "    words = [lemmatizer.lemmatize(word.lower()) for word in words if word not in set(stopwords.words('english'))]\n",
    "    sentences[i] = ' '.join(words)"
   ]
  },
  {
   "cell_type": "code",
   "execution_count": 47,
   "id": "4e95eee5",
   "metadata": {},
   "outputs": [
    {
     "data": {
      "text/plain": [
       "[\"today , i honoured speak one india 's revered figure , dr. apj abdul kalam , fondly known `` missile man india `` `` people 's president . ``\",\n",
       " 'his life testament dedication , perseverance , power dream .',\n",
       " 'dr. kalam born 1931 small town called rameswaram .',\n",
       " 'he hailed humble background driven passion science technology .',\n",
       " \"his academic journey marked determination , worked tirelessly overcome challenge become key figure india 's space defence program .\",\n",
       " \"a aerospace scientist , played pivotal role development india 's missile system , including agni prithvi missile .\",\n",
       " 'in 2002 , dr. kalam became 11th president india , position used inspire million young mind across country .',\n",
       " 'his vision india ’ future based empowering youth fostering innovation .',\n",
       " 'he always emphasised `` dream , dream , dream `` dream shape future .',\n",
       " 'his love child belief potential made extraordinary leader always accessible people .',\n",
       " 'even presidency , dr. kalam continued contribute society lecture , book , interaction student , always urging follow passion make positive impact world .',\n",
       " 'dr. kalam ’ life reminds u hard work , determination , vision , achieve greatness , matter come .',\n",
       " 'his legacy continues inspire india entire world .']"
      ]
     },
     "execution_count": 47,
     "metadata": {},
     "output_type": "execute_result"
    }
   ],
   "source": [
    "sentences"
   ]
  }
 ],
 "metadata": {
  "kernelspec": {
   "display_name": "Python 3",
   "language": "python",
   "name": "python3"
  },
  "language_info": {
   "codemirror_mode": {
    "name": "ipython",
    "version": 3
   },
   "file_extension": ".py",
   "mimetype": "text/x-python",
   "name": "python",
   "nbconvert_exporter": "python",
   "pygments_lexer": "ipython3",
   "version": "3.13.3"
  }
 },
 "nbformat": 4,
 "nbformat_minor": 5
}
